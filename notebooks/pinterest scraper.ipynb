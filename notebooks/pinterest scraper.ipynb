{
 "cells": [
  {
   "cell_type": "markdown",
   "metadata": {},
   "source": [
    "# Pinterest Scraper for Chair Data Collection\n",
    "\n",
    "## Introduction\n",
    "Our goal is to collect 500 designer chair images from Pinterest along with their metadata for the Chairness project GAN training dataset.\n",
    "\n",
    "The key libraries we're using:\n",
    "\n",
    "- `Selenium`: For browser automation\n",
    "- `Webdriver-manager`: For automatic handling of browser drivers\n",
    "- `Requests`: For downloading images"
   ]
  },
  {
   "cell_type": "markdown",
   "metadata": {},
   "source": [
    "## Scraper Implementation\n",
    "\n",
    "We implemented a custom scraper to collect chair images and metadata from Pinterest. The scraper navigates to search results for \"designer chair\" and collects:\n",
    "\n",
    "1. Pinterest ID\n",
    "2. Chair name\n",
    "3. Description\n",
    "4. Alt text\n",
    "5. Image URL\n",
    "\n",
    "The implementation focuses on finding pins with the specific CSS selector div[data-test-id='pin-with-alt-text'] and then visiting each individual pin page to extract more detailed information."
   ]
  },
  {
   "cell_type": "markdown",
   "metadata": {},
   "source": [
    "## Scraping Process\n",
    "\n",
    "The scraping process involves these main steps:\n",
    "\n",
    "1. Navigate to Pinterest search results for \"designer chair\"\n",
    "2. Scroll the page to load more pins (up to 500)\n",
    "3. For each pin:\n",
    "\n",
    "- Extract the Pinterest ID and alt text\n",
    "- Visit the individual pin page\n",
    "- Extract chair name, description, and image URL\n",
    "- Download the image\n",
    "- Save metadata to CSV"
   ]
  },
  {
   "cell_type": "code",
   "execution_count": null,
   "metadata": {},
   "outputs": [],
   "source": [
    "def scrape_pinterest(num_images=500):\n",
    "    # Navigate to search page\n",
    "    driver.get(\"https://www.pinterest.com/search/pins/?q=designer%20chair\")\n",
    "    \n",
    "    # Scroll and collect pins\n",
    "    # ...scrolling and pin collection code...\n",
    "    \n",
    "    # Visit each pin page\n",
    "    for pin_id, alt_text in pin_data:\n",
    "        # Get chair name from <h1> in div[data-test-id='pinTitle']\n",
    "        # Get description from different possible locations\n",
    "        # Download image\n",
    "        # Save data to CSV"
   ]
  },
  {
   "cell_type": "markdown",
   "metadata": {},
   "source": [
    "## Results\n",
    "\n",
    "The scraper successfully collected 500 chair images along with their metadata. The dataset is stored in two locations:\n",
    "\n",
    "1. CSV file with metadata: ../raw/real/pinterest_chairs.csv\n",
    "2. Image folder with all downloaded images: ../raw/real/chair_images/\n",
    "\n",
    "The CSV structure includes:\n",
    "\n",
    "1. Pinterest ID: Unique identifier for each pin\n",
    "2. Name: Chair name extracted from the pin title\n",
    "3. Description: Description of the chair\n",
    "4. Alt Text: Alternative text from the original pin\n",
    "5. URL: Direct URL to the high-resolution image"
   ]
  }
 ],
 "metadata": {
  "language_info": {
   "name": "python"
  }
 },
 "nbformat": 4,
 "nbformat_minor": 2
}
